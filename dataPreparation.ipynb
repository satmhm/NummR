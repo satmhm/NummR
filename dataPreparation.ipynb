{
 "cells": [
  {
   "cell_type": "code",
   "execution_count": 1,
   "metadata": {},
   "outputs": [],
   "source": [
    "import pandas as pd\n",
    "import numpy as np\n",
    "import yfinance as yf\n",
    "import matplotlib.pyplot as plt\n",
    "\n",
    "from sklearn.preprocessing import StandardScaler\n"
   ]
  },
  {
   "cell_type": "code",
   "execution_count": 2,
   "metadata": {},
   "outputs": [],
   "source": [
    "chinaCPI = pd.read_excel('cpiChina.xls')\n",
    "usCPI = pd.read_excel('cpiUS.xls')\n",
    "indoCPI = pd.read_excel('inflasiIndonesia.xlsx', usecols = \"B:C\", skiprows = [1,2,3,4])"
   ]
  },
  {
   "cell_type": "code",
   "execution_count": 3,
   "metadata": {
    "scrolled": true
   },
   "outputs": [
    {
     "data": {
      "text/html": [
       "<div>\n",
       "<style scoped>\n",
       "    .dataframe tbody tr th:only-of-type {\n",
       "        vertical-align: middle;\n",
       "    }\n",
       "\n",
       "    .dataframe tbody tr th {\n",
       "        vertical-align: top;\n",
       "    }\n",
       "\n",
       "    .dataframe thead th {\n",
       "        text-align: right;\n",
       "    }\n",
       "</style>\n",
       "<table border=\"1\" class=\"dataframe\">\n",
       "  <thead>\n",
       "    <tr style=\"text-align: right;\">\n",
       "      <th></th>\n",
       "      <th>Date</th>\n",
       "      <th>chCPI</th>\n",
       "    </tr>\n",
       "  </thead>\n",
       "  <tbody>\n",
       "    <tr>\n",
       "      <th>0</th>\n",
       "      <td>2002-01-01 00:00:00</td>\n",
       "      <td>71.061305</td>\n",
       "    </tr>\n",
       "    <tr>\n",
       "      <th>1</th>\n",
       "      <td>2002-02-01 00:00:00</td>\n",
       "      <td>71.84298</td>\n",
       "    </tr>\n",
       "    <tr>\n",
       "      <th>2</th>\n",
       "      <td>2002-03-01 00:00:00</td>\n",
       "      <td>70.909021</td>\n",
       "    </tr>\n",
       "    <tr>\n",
       "      <th>3</th>\n",
       "      <td>2002-04-01 00:00:00</td>\n",
       "      <td>70.696294</td>\n",
       "    </tr>\n",
       "    <tr>\n",
       "      <th>4</th>\n",
       "      <td>2002-05-01 00:00:00</td>\n",
       "      <td>70.484205</td>\n",
       "    </tr>\n",
       "  </tbody>\n",
       "</table>\n",
       "</div>"
      ],
      "text/plain": [
       "                  Date      chCPI\n",
       "0  2002-01-01 00:00:00  71.061305\n",
       "1  2002-02-01 00:00:00   71.84298\n",
       "2  2002-03-01 00:00:00  70.909021\n",
       "3  2002-04-01 00:00:00  70.696294\n",
       "4  2002-05-01 00:00:00  70.484205"
      ]
     },
     "execution_count": 3,
     "metadata": {},
     "output_type": "execute_result"
    }
   ],
   "source": [
    "chinaCPI.drop(chinaCPI.index[0:10], axis = 0, inplace= True)\n",
    "chinaCPI.reset_index(inplace=True)\n",
    "chinaCPI.drop(['index'], axis = 1, inplace= True)\n",
    "chinaCPI.rename(columns = {'FRED Graph Observations': 'Date', 'Unnamed: 1' : 'chCPI'}, inplace = True)\n",
    "chinaCPI.head(5)"
   ]
  },
  {
   "cell_type": "code",
   "execution_count": 4,
   "metadata": {},
   "outputs": [
    {
     "name": "stderr",
     "output_type": "stream",
     "text": [
      "/var/folders/cp/6992njhn3_3f29d2s3qz63040000gn/T/ipykernel_1086/1099100150.py:3: FutureWarning: Support for multi-dimensional indexing (e.g. `obj[:, None]`) is deprecated and will be removed in a future version.  Convert to a numpy array before indexing instead.\n",
      "  a1 = Scale.fit_transform(a[:,np.newaxis])\n"
     ]
    }
   ],
   "source": [
    "Scale = StandardScaler()\n",
    "a = chinaCPI['chCPI']\n",
    "a1 = Scale.fit_transform(a[:,np.newaxis])"
   ]
  },
  {
   "cell_type": "code",
   "execution_count": 5,
   "metadata": {
    "scrolled": true
   },
   "outputs": [
    {
     "data": {
      "text/html": [
       "<div>\n",
       "<style scoped>\n",
       "    .dataframe tbody tr th:only-of-type {\n",
       "        vertical-align: middle;\n",
       "    }\n",
       "\n",
       "    .dataframe tbody tr th {\n",
       "        vertical-align: top;\n",
       "    }\n",
       "\n",
       "    .dataframe thead th {\n",
       "        text-align: right;\n",
       "    }\n",
       "</style>\n",
       "<table border=\"1\" class=\"dataframe\">\n",
       "  <thead>\n",
       "    <tr style=\"text-align: right;\">\n",
       "      <th></th>\n",
       "      <th>Date</th>\n",
       "      <th>chCPI</th>\n",
       "      <th>chCPINorm</th>\n",
       "    </tr>\n",
       "  </thead>\n",
       "  <tbody>\n",
       "    <tr>\n",
       "      <th>0</th>\n",
       "      <td>2002-01-01 00:00:00</td>\n",
       "      <td>71.061305</td>\n",
       "      <td>-1.510174</td>\n",
       "    </tr>\n",
       "    <tr>\n",
       "      <th>1</th>\n",
       "      <td>2002-02-01 00:00:00</td>\n",
       "      <td>71.84298</td>\n",
       "      <td>-1.452627</td>\n",
       "    </tr>\n",
       "    <tr>\n",
       "      <th>2</th>\n",
       "      <td>2002-03-01 00:00:00</td>\n",
       "      <td>70.909021</td>\n",
       "      <td>-1.521385</td>\n",
       "    </tr>\n",
       "    <tr>\n",
       "      <th>3</th>\n",
       "      <td>2002-04-01 00:00:00</td>\n",
       "      <td>70.696294</td>\n",
       "      <td>-1.537046</td>\n",
       "    </tr>\n",
       "    <tr>\n",
       "      <th>4</th>\n",
       "      <td>2002-05-01 00:00:00</td>\n",
       "      <td>70.484205</td>\n",
       "      <td>-1.552660</td>\n",
       "    </tr>\n",
       "  </tbody>\n",
       "</table>\n",
       "</div>"
      ],
      "text/plain": [
       "                  Date      chCPI  chCPINorm\n",
       "0  2002-01-01 00:00:00  71.061305  -1.510174\n",
       "1  2002-02-01 00:00:00   71.84298  -1.452627\n",
       "2  2002-03-01 00:00:00  70.909021  -1.521385\n",
       "3  2002-04-01 00:00:00  70.696294  -1.537046\n",
       "4  2002-05-01 00:00:00  70.484205  -1.552660"
      ]
     },
     "execution_count": 5,
     "metadata": {},
     "output_type": "execute_result"
    }
   ],
   "source": [
    "cpiChina = pd.DataFrame(a1)\n",
    "a2 = pd.concat([chinaCPI,cpiChina], axis = 1)\n",
    "a2.rename(columns = {0 : 'chCPINorm'}, inplace = True)\n",
    "a2.head(5)"
   ]
  },
  {
   "cell_type": "code",
   "execution_count": 6,
   "metadata": {},
   "outputs": [],
   "source": [
    "def chDailyData():\n",
    "    y = a2['chCPINorm']\n",
    "    x_value = [1,30]\n",
    "    i = 0\n",
    "    y_new = []\n",
    "    for i in range(len(y)-1):\n",
    "        a, b = [y.iloc[i], y.iloc[i+1]]\n",
    "        y_value = [a,b]\n",
    "        i = i+1\n",
    "        for j in range(28):\n",
    "            y_new.append(np.interp(j+1, x_value, y_value))\n",
    "    return(y_new)\n",
    "                \n",
    "        "
   ]
  },
  {
   "cell_type": "code",
   "execution_count": 7,
   "metadata": {},
   "outputs": [],
   "source": [
    "chCPIDaily = pd.DataFrame(chDailyData())"
   ]
  },
  {
   "cell_type": "code",
   "execution_count": 8,
   "metadata": {},
   "outputs": [
    {
     "data": {
      "text/plain": [
       "[<matplotlib.lines.Line2D at 0x7f7ad91c50d0>]"
      ]
     },
     "execution_count": 8,
     "metadata": {},
     "output_type": "execute_result"
    },
    {
     "data": {
      "image/png": "[encoded data removed]",
      "text/plain": [
       "<Figure size 432x288 with 1 Axes>"
      ]
     },
     "metadata": {
      "needs_background": "light"
     },
     "output_type": "display_data"
    }
   ],
   "source": [
    "plt.plot(chCPIDaily)"
   ]
  },
  {
   "cell_type": "markdown",
   "metadata": {},
   "source": [
    "#### <center> US CPI (Inflation)"
   ]
  },
  {
   "cell_type": "code",
   "execution_count": 9,
   "metadata": {},
   "outputs": [],
   "source": [
    "usCPI.drop(usCPI.index[0:10], axis = 0, inplace= True)\n",
    "usCPI.reset_index(inplace=True)\n",
    "usCPI.drop(['index'], axis = 1, inplace= True)\n",
    "usCPI.rename(columns = {'FRED Graph Observations': 'Date', 'Unnamed: 1' : 'usCPI'}, inplace = True)"
   ]
  },
  {
   "cell_type": "code",
   "execution_count": 10,
   "metadata": {},
   "outputs": [
    {
     "name": "stderr",
     "output_type": "stream",
     "text": [
      "/var/folders/cp/6992njhn3_3f29d2s3qz63040000gn/T/ipykernel_1086/1702642358.py:2: FutureWarning: Support for multi-dimensional indexing (e.g. `obj[:, None]`) is deprecated and will be removed in a future version.  Convert to a numpy array before indexing instead.\n",
      "  b1 = Scale.fit_transform(b[:, np.newaxis])\n"
     ]
    },
    {
     "data": {
      "text/html": [
       "<div>\n",
       "<style scoped>\n",
       "    .dataframe tbody tr th:only-of-type {\n",
       "        vertical-align: middle;\n",
       "    }\n",
       "\n",
       "    .dataframe tbody tr th {\n",
       "        vertical-align: top;\n",
       "    }\n",
       "\n",
       "    .dataframe thead th {\n",
       "        text-align: right;\n",
       "    }\n",
       "</style>\n",
       "<table border=\"1\" class=\"dataframe\">\n",
       "  <thead>\n",
       "    <tr style=\"text-align: right;\">\n",
       "      <th></th>\n",
       "      <th>Date</th>\n",
       "      <th>usCPI</th>\n",
       "      <th>usCPINorm</th>\n",
       "    </tr>\n",
       "  </thead>\n",
       "  <tbody>\n",
       "    <tr>\n",
       "      <th>0</th>\n",
       "      <td>2002-01-01 00:00:00</td>\n",
       "      <td>1.142204</td>\n",
       "      <td>-0.719529</td>\n",
       "    </tr>\n",
       "    <tr>\n",
       "      <th>1</th>\n",
       "      <td>2002-02-01 00:00:00</td>\n",
       "      <td>1.137656</td>\n",
       "      <td>-0.722680</td>\n",
       "    </tr>\n",
       "    <tr>\n",
       "      <th>2</th>\n",
       "      <td>2002-03-01 00:00:00</td>\n",
       "      <td>1.475596</td>\n",
       "      <td>-0.488581</td>\n",
       "    </tr>\n",
       "    <tr>\n",
       "      <th>3</th>\n",
       "      <td>2002-04-01 00:00:00</td>\n",
       "      <td>1.639344</td>\n",
       "      <td>-0.375149</td>\n",
       "    </tr>\n",
       "    <tr>\n",
       "      <th>4</th>\n",
       "      <td>2002-05-01 00:00:00</td>\n",
       "      <td>1.181767</td>\n",
       "      <td>-0.692123</td>\n",
       "    </tr>\n",
       "  </tbody>\n",
       "</table>\n",
       "</div>"
      ],
      "text/plain": [
       "                  Date     usCPI  usCPINorm\n",
       "0  2002-01-01 00:00:00  1.142204  -0.719529\n",
       "1  2002-02-01 00:00:00  1.137656  -0.722680\n",
       "2  2002-03-01 00:00:00  1.475596  -0.488581\n",
       "3  2002-04-01 00:00:00  1.639344  -0.375149\n",
       "4  2002-05-01 00:00:00  1.181767  -0.692123"
      ]
     },
     "execution_count": 10,
     "metadata": {},
     "output_type": "execute_result"
    }
   ],
   "source": [
    "b = usCPI['usCPI']\n",
    "b1 = Scale.fit_transform(b[:, np.newaxis])\n",
    "cpiUS = pd.DataFrame(b1)\n",
    "b2 = pd.concat([usCPI,cpiUS], axis = 1)\n",
    "b2.rename(columns = {'usCPI':'usCPI', 0: 'usCPINorm'}, inplace = True)\n",
    "b2.head(5)"
   ]
  },
  {
   "cell_type": "code",
   "execution_count": 11,
   "metadata": {},
   "outputs": [
    {
     "data": {
      "text/plain": [
       "(241, 3)"
      ]
     },
     "execution_count": 11,
     "metadata": {},
     "output_type": "execute_result"
    }
   ],
   "source": [
    "b2.shape"
   ]
  },
  {
   "cell_type": "code",
   "execution_count": 12,
   "metadata": {},
   "outputs": [],
   "source": [
    "def usDailyData():\n",
    "    y = b2['usCPINorm']\n",
    "    x_value = [1,30]\n",
    "    i = 0\n",
    "    y_new = []\n",
    "    for i in range(len(y)-1):\n",
    "        a, b = [y.iloc[i], y.iloc[i+1]]\n",
    "        y_value = [a,b]\n",
    "        i = i+1\n",
    "        for j in range(28):\n",
    "            y_new.append(np.interp(j+1, x_value, y_value))\n",
    "    return(y_new)"
   ]
  },
  {
   "cell_type": "code",
   "execution_count": 13,
   "metadata": {
    "scrolled": true
   },
   "outputs": [
    {
     "data": {
      "text/plain": [
       "[<matplotlib.lines.Line2D at 0x7f7ad93bfcd0>]"
      ]
     },
     "execution_count": 13,
     "metadata": {},
     "output_type": "execute_result"
    },
    {
     "data": {
      "image/png": "[encoded data removed]",
      "text/plain": [
       "<Figure size 432x288 with 1 Axes>"
      ]
     },
     "metadata": {
      "needs_background": "light"
     },
     "output_type": "display_data"
    }
   ],
   "source": [
    "usCPIDaily = pd.DataFrame(usDailyData())\n",
    "plt.plot(usCPIDaily)"
   ]
  },
  {
   "cell_type": "code",
   "execution_count": 14,
   "metadata": {},
   "outputs": [
    {
     "data": {
      "text/plain": [
       "6720"
      ]
     },
     "execution_count": 14,
     "metadata": {},
     "output_type": "execute_result"
    }
   ],
   "source": [
    "len(usCPIDaily)"
   ]
  },
  {
   "cell_type": "markdown",
   "metadata": {},
   "source": [
    "#### <center> Combined Monthly CPI Graph"
   ]
  },
  {
   "cell_type": "code",
   "execution_count": 15,
   "metadata": {},
   "outputs": [],
   "source": [
    "X = a2['Date']\n",
    "Y1 = a2['chCPINorm']\n",
    "Y2 = b2['usCPINorm']"
   ]
  },
  {
   "cell_type": "code",
   "execution_count": 16,
   "metadata": {},
   "outputs": [
    {
     "data": {
      "image/png": "[encoded data removed]",
      "text/plain": [
       "<Figure size 1728x432 with 1 Axes>"
      ]
     },
     "metadata": {
      "needs_background": "light"
     },
     "output_type": "display_data"
    }
   ],
   "source": [
    "plt.figure(figsize = (24,6))\n",
    "plt.subplot(131)\n",
    "plt.plot(X, Y1, label = 'China Inflation', color = 'r')\n",
    "plt.plot(X, Y2, label = 'US Inflation', color = 'b')\n",
    "plt.xlabel('Date')\n",
    "plt.ylabel('Inflation Index')\n",
    "plt.legend()\n",
    "plt.show()"
   ]
  },
  {
   "cell_type": "markdown",
   "metadata": {},
   "source": [
    "#### <center> Combined Daily CPI Graph"
   ]
  },
  {
   "cell_type": "code",
   "execution_count": 17,
   "metadata": {},
   "outputs": [
    {
     "data": {
      "text/html": [
       "<div>\n",
       "<style scoped>\n",
       "    .dataframe tbody tr th:only-of-type {\n",
       "        vertical-align: middle;\n",
       "    }\n",
       "\n",
       "    .dataframe tbody tr th {\n",
       "        vertical-align: top;\n",
       "    }\n",
       "\n",
       "    .dataframe thead th {\n",
       "        text-align: right;\n",
       "    }\n",
       "</style>\n",
       "<table border=\"1\" class=\"dataframe\">\n",
       "  <thead>\n",
       "    <tr style=\"text-align: right;\">\n",
       "      <th></th>\n",
       "      <th>0</th>\n",
       "    </tr>\n",
       "  </thead>\n",
       "  <tbody>\n",
       "    <tr>\n",
       "      <th>0</th>\n",
       "      <td>-0.719529</td>\n",
       "    </tr>\n",
       "    <tr>\n",
       "      <th>1</th>\n",
       "      <td>-0.719638</td>\n",
       "    </tr>\n",
       "    <tr>\n",
       "      <th>2</th>\n",
       "      <td>-0.719746</td>\n",
       "    </tr>\n",
       "  </tbody>\n",
       "</table>\n",
       "</div>"
      ],
      "text/plain": [
       "          0\n",
       "0 -0.719529\n",
       "1 -0.719638\n",
       "2 -0.719746"
      ]
     },
     "execution_count": 17,
     "metadata": {},
     "output_type": "execute_result"
    }
   ],
   "source": [
    "usCPIDaily.head(3)"
   ]
  },
  {
   "cell_type": "markdown",
   "metadata": {},
   "source": [
    "#### <center> Indonesian CPI (Monthly)"
   ]
  },
  {
   "cell_type": "code",
   "execution_count": 18,
   "metadata": {},
   "outputs": [
    {
     "data": {
      "text/html": [
       "<div>\n",
       "<style scoped>\n",
       "    .dataframe tbody tr th:only-of-type {\n",
       "        vertical-align: middle;\n",
       "    }\n",
       "\n",
       "    .dataframe tbody tr th {\n",
       "        vertical-align: top;\n",
       "    }\n",
       "\n",
       "    .dataframe thead th {\n",
       "        text-align: right;\n",
       "    }\n",
       "</style>\n",
       "<table border=\"1\" class=\"dataframe\">\n",
       "  <thead>\n",
       "    <tr style=\"text-align: right;\">\n",
       "      <th></th>\n",
       "      <th>Unnamed: 1</th>\n",
       "      <th>Unnamed: 2</th>\n",
       "    </tr>\n",
       "  </thead>\n",
       "  <tbody>\n",
       "    <tr>\n",
       "      <th>229</th>\n",
       "      <td>Desember 2002</td>\n",
       "      <td>0.0000</td>\n",
       "    </tr>\n",
       "    <tr>\n",
       "      <th>228</th>\n",
       "      <td>Januari 2003</td>\n",
       "      <td>0.0868</td>\n",
       "    </tr>\n",
       "    <tr>\n",
       "      <th>227</th>\n",
       "      <td>Februari 2003</td>\n",
       "      <td>0.0760</td>\n",
       "    </tr>\n",
       "  </tbody>\n",
       "</table>\n",
       "</div>"
      ],
      "text/plain": [
       "        Unnamed: 1  Unnamed: 2\n",
       "229  Desember 2002      0.0000\n",
       "228   Januari 2003      0.0868\n",
       "227  Februari 2003      0.0760"
      ]
     },
     "execution_count": 18,
     "metadata": {},
     "output_type": "execute_result"
    }
   ],
   "source": [
    "indoCPI = indoCPI.iloc[::-1]\n",
    "indoCPI['Unnamed: 2'] = indoCPI['Unnamed: 2'].str.rstrip('%').astype('float') / 100.0\n",
    "indoCPI.head(3)"
   ]
  },
  {
   "cell_type": "code",
   "execution_count": 19,
   "metadata": {},
   "outputs": [
    {
     "name": "stderr",
     "output_type": "stream",
     "text": [
      "/var/folders/cp/6992njhn3_3f29d2s3qz63040000gn/T/ipykernel_1086/1303841877.py:2: FutureWarning: Support for multi-dimensional indexing (e.g. `obj[:, None]`) is deprecated and will be removed in a future version.  Convert to a numpy array before indexing instead.\n",
      "  c1 = Scale.fit_transform(c[:, np.newaxis])\n"
     ]
    }
   ],
   "source": [
    "c = indoCPI['Unnamed: 2']\n",
    "c1 = Scale.fit_transform(c[:, np.newaxis])"
   ]
  },
  {
   "cell_type": "code",
   "execution_count": 20,
   "metadata": {},
   "outputs": [],
   "source": [
    "c2 = pd.DataFrame(c1)\n",
    "c3 = pd.concat([indoCPI,c2], axis = 1)"
   ]
  },
  {
   "cell_type": "code",
   "execution_count": 21,
   "metadata": {},
   "outputs": [],
   "source": [
    "c3.rename(columns = {'Unnamed: 1': 'Date', 'Unnamed: 2' : 'indoCPI', 0:'indoCPINorm'}, inplace = True)"
   ]
  },
  {
   "cell_type": "code",
   "execution_count": 22,
   "metadata": {},
   "outputs": [
    {
     "data": {
      "text/html": [
       "<div>\n",
       "<style scoped>\n",
       "    .dataframe tbody tr th:only-of-type {\n",
       "        vertical-align: middle;\n",
       "    }\n",
       "\n",
       "    .dataframe tbody tr th {\n",
       "        vertical-align: top;\n",
       "    }\n",
       "\n",
       "    .dataframe thead th {\n",
       "        text-align: right;\n",
       "    }\n",
       "</style>\n",
       "<table border=\"1\" class=\"dataframe\">\n",
       "  <thead>\n",
       "    <tr style=\"text-align: right;\">\n",
       "      <th></th>\n",
       "      <th>Date</th>\n",
       "      <th>indoCPI</th>\n",
       "      <th>indoCPINorm</th>\n",
       "    </tr>\n",
       "  </thead>\n",
       "  <tbody>\n",
       "    <tr>\n",
       "      <th>229</th>\n",
       "      <td>Desember 2002</td>\n",
       "      <td>0.0000</td>\n",
       "      <td>-1.044976</td>\n",
       "    </tr>\n",
       "    <tr>\n",
       "      <th>228</th>\n",
       "      <td>Januari 2003</td>\n",
       "      <td>0.0868</td>\n",
       "      <td>-1.135881</td>\n",
       "    </tr>\n",
       "    <tr>\n",
       "      <th>227</th>\n",
       "      <td>Februari 2003</td>\n",
       "      <td>0.0760</td>\n",
       "      <td>-1.171070</td>\n",
       "    </tr>\n",
       "    <tr>\n",
       "      <th>226</th>\n",
       "      <td>Maret 2003</td>\n",
       "      <td>0.0717</td>\n",
       "      <td>-1.197462</td>\n",
       "    </tr>\n",
       "    <tr>\n",
       "      <th>225</th>\n",
       "      <td>April 2003</td>\n",
       "      <td>0.0762</td>\n",
       "      <td>-1.215056</td>\n",
       "    </tr>\n",
       "    <tr>\n",
       "      <th>...</th>\n",
       "      <td>...</td>\n",
       "      <td>...</td>\n",
       "      <td>...</td>\n",
       "    </tr>\n",
       "    <tr>\n",
       "      <th>4</th>\n",
       "      <td>September 2021</td>\n",
       "      <td>0.0160</td>\n",
       "      <td>0.550263</td>\n",
       "    </tr>\n",
       "    <tr>\n",
       "      <th>3</th>\n",
       "      <td>Oktober 2021</td>\n",
       "      <td>0.0166</td>\n",
       "      <td>0.418304</td>\n",
       "    </tr>\n",
       "    <tr>\n",
       "      <th>2</th>\n",
       "      <td>November 2021</td>\n",
       "      <td>0.0175</td>\n",
       "      <td>0.544398</td>\n",
       "    </tr>\n",
       "    <tr>\n",
       "      <th>1</th>\n",
       "      <td>Desember 2021</td>\n",
       "      <td>0.0187</td>\n",
       "      <td>0.861100</td>\n",
       "    </tr>\n",
       "    <tr>\n",
       "      <th>0</th>\n",
       "      <td>Januari 2022</td>\n",
       "      <td>0.0218</td>\n",
       "      <td>-1.684244</td>\n",
       "    </tr>\n",
       "  </tbody>\n",
       "</table>\n",
       "<p>230 rows × 3 columns</p>\n",
       "</div>"
      ],
      "text/plain": [
       "               Date  indoCPI  indoCPINorm\n",
       "229   Desember 2002   0.0000    -1.044976\n",
       "228    Januari 2003   0.0868    -1.135881\n",
       "227   Februari 2003   0.0760    -1.171070\n",
       "226      Maret 2003   0.0717    -1.197462\n",
       "225      April 2003   0.0762    -1.215056\n",
       "..              ...      ...          ...\n",
       "4    September 2021   0.0160     0.550263\n",
       "3      Oktober 2021   0.0166     0.418304\n",
       "2     November 2021   0.0175     0.544398\n",
       "1     Desember 2021   0.0187     0.861100\n",
       "0      Januari 2022   0.0218    -1.684244\n",
       "\n",
       "[230 rows x 3 columns]"
      ]
     },
     "execution_count": 22,
     "metadata": {},
     "output_type": "execute_result"
    }
   ],
   "source": [
    "c3"
   ]
  },
  {
   "cell_type": "markdown",
   "metadata": {},
   "source": [
    "#### <center> Indonesian CPI (Daily)"
   ]
  },
  {
   "cell_type": "code",
   "execution_count": 23,
   "metadata": {},
   "outputs": [],
   "source": [
    "def idDailyData():\n",
    "    y = c3['indoCPINorm']\n",
    "    x_value = [1,30]\n",
    "    i = 0\n",
    "    y_new = []\n",
    "    for i in range(len(y)-1):\n",
    "        a, b = [y.iloc[i], y.iloc[i+1]]\n",
    "        y_value = [a,b]\n",
    "        i = i+1\n",
    "        for j in range(28):\n",
    "            y_new.append(np.interp(j+1, x_value, y_value))\n",
    "    return(y_new)"
   ]
  },
  {
   "cell_type": "code",
   "execution_count": 24,
   "metadata": {},
   "outputs": [
    {
     "data": {
      "text/html": [
       "<div>\n",
       "<style scoped>\n",
       "    .dataframe tbody tr th:only-of-type {\n",
       "        vertical-align: middle;\n",
       "    }\n",
       "\n",
       "    .dataframe tbody tr th {\n",
       "        vertical-align: top;\n",
       "    }\n",
       "\n",
       "    .dataframe thead th {\n",
       "        text-align: right;\n",
       "    }\n",
       "</style>\n",
       "<table border=\"1\" class=\"dataframe\">\n",
       "  <thead>\n",
       "    <tr style=\"text-align: right;\">\n",
       "      <th></th>\n",
       "      <th>0</th>\n",
       "    </tr>\n",
       "  </thead>\n",
       "  <tbody>\n",
       "    <tr>\n",
       "      <th>0</th>\n",
       "      <td>-1.044976</td>\n",
       "    </tr>\n",
       "    <tr>\n",
       "      <th>1</th>\n",
       "      <td>-1.048110</td>\n",
       "    </tr>\n",
       "    <tr>\n",
       "      <th>2</th>\n",
       "      <td>-1.051245</td>\n",
       "    </tr>\n",
       "    <tr>\n",
       "      <th>3</th>\n",
       "      <td>-1.054379</td>\n",
       "    </tr>\n",
       "    <tr>\n",
       "      <th>4</th>\n",
       "      <td>-1.057514</td>\n",
       "    </tr>\n",
       "  </tbody>\n",
       "</table>\n",
       "</div>"
      ],
      "text/plain": [
       "          0\n",
       "0 -1.044976\n",
       "1 -1.048110\n",
       "2 -1.051245\n",
       "3 -1.054379\n",
       "4 -1.057514"
      ]
     },
     "execution_count": 24,
     "metadata": {},
     "output_type": "execute_result"
    }
   ],
   "source": [
    "idCPIDaily = pd.DataFrame(idDailyData())\n",
    "idCPIDaily.head(5)"
   ]
  },
  {
   "cell_type": "code",
   "execution_count": 25,
   "metadata": {},
   "outputs": [
    {
     "data": {
      "text/plain": [
       "6412"
      ]
     },
     "execution_count": 25,
     "metadata": {},
     "output_type": "execute_result"
    }
   ],
   "source": [
    "len(idCPIDaily)"
   ]
  },
  {
   "cell_type": "markdown",
   "metadata": {},
   "source": [
    "#### <center> OIL PRICE"
   ]
  },
  {
   "cell_type": "code",
   "execution_count": 26,
   "metadata": {},
   "outputs": [],
   "source": [
    "CL = yf.Ticker(\"CL=F\")\n",
    "oil = CL.history(start = '2002-01-01', end = '2022-01-01', period = '1d')\n",
    "oil = pd.DataFrame(oil)"
   ]
  },
  {
   "cell_type": "code",
   "execution_count": 27,
   "metadata": {
    "scrolled": true
   },
   "outputs": [],
   "source": [
    "oil.drop(['Open','High','Low', 'Dividends', 'Stock Splits'], axis = 1, inplace = True)\n",
    "oil.reset_index(inplace = True)"
   ]
  },
  {
   "cell_type": "code",
   "execution_count": 28,
   "metadata": {},
   "outputs": [],
   "source": [
    "oil['Date'] = pd.to_datetime(oil['Date'])"
   ]
  },
  {
   "cell_type": "code",
   "execution_count": 29,
   "metadata": {},
   "outputs": [
    {
     "data": {
      "text/html": [
       "<div>\n",
       "<style scoped>\n",
       "    .dataframe tbody tr th:only-of-type {\n",
       "        vertical-align: middle;\n",
       "    }\n",
       "\n",
       "    .dataframe tbody tr th {\n",
       "        vertical-align: top;\n",
       "    }\n",
       "\n",
       "    .dataframe thead th {\n",
       "        text-align: right;\n",
       "    }\n",
       "</style>\n",
       "<table border=\"1\" class=\"dataframe\">\n",
       "  <thead>\n",
       "    <tr style=\"text-align: right;\">\n",
       "      <th></th>\n",
       "      <th>Date</th>\n",
       "      <th>Close</th>\n",
       "      <th>Volume</th>\n",
       "    </tr>\n",
       "  </thead>\n",
       "  <tbody>\n",
       "    <tr>\n",
       "      <th>0</th>\n",
       "      <td>2001-12-31</td>\n",
       "      <td>19.840000</td>\n",
       "      <td>36403</td>\n",
       "    </tr>\n",
       "    <tr>\n",
       "      <th>1</th>\n",
       "      <td>2002-01-02</td>\n",
       "      <td>21.010000</td>\n",
       "      <td>69560</td>\n",
       "    </tr>\n",
       "    <tr>\n",
       "      <th>2</th>\n",
       "      <td>2002-01-03</td>\n",
       "      <td>20.370001</td>\n",
       "      <td>64010</td>\n",
       "    </tr>\n",
       "    <tr>\n",
       "      <th>3</th>\n",
       "      <td>2002-01-04</td>\n",
       "      <td>21.620001</td>\n",
       "      <td>84832</td>\n",
       "    </tr>\n",
       "    <tr>\n",
       "      <th>4</th>\n",
       "      <td>2002-01-07</td>\n",
       "      <td>21.480000</td>\n",
       "      <td>64080</td>\n",
       "    </tr>\n",
       "  </tbody>\n",
       "</table>\n",
       "</div>"
      ],
      "text/plain": [
       "        Date      Close  Volume\n",
       "0 2001-12-31  19.840000   36403\n",
       "1 2002-01-02  21.010000   69560\n",
       "2 2002-01-03  20.370001   64010\n",
       "3 2002-01-04  21.620001   84832\n",
       "4 2002-01-07  21.480000   64080"
      ]
     },
     "execution_count": 29,
     "metadata": {},
     "output_type": "execute_result"
    }
   ],
   "source": [
    "oil.head(5)"
   ]
  },
  {
   "cell_type": "code",
   "execution_count": 37,
   "metadata": {},
   "outputs": [
    {
     "data": {
      "text/plain": [
       "(5028, 3)"
      ]
     },
     "execution_count": 37,
     "metadata": {},
     "output_type": "execute_result"
    }
   ],
   "source": [
    "oil.shape"
   ]
  },
  {
   "cell_type": "code",
   "execution_count": 30,
   "metadata": {},
   "outputs": [],
   "source": [
    "#oil.to_excel('oilPriceDaily.xlsx', index = False, engine = 'xlsxwriter')"
   ]
  },
  {
   "cell_type": "markdown",
   "metadata": {},
   "source": [
    "#### <center> STOCKS"
   ]
  },
  {
   "cell_type": "markdown",
   "metadata": {},
   "source": [
    "* Tier 1: \n",
    "['BBCA.JK','BBNI.JK','BMRI.JK', 'ADHI.JK','ADRO.JK','ANTM.JK','ASII.JK','ICBP.JK','INDF.JK', 'TLKM.JK']\n",
    "\n",
    "* Tier 2:\n",
    "['JSMR.JK','KLBF.JK', 'BUMI.JK', 'GGRM.JK', 'UNTR.JK', 'UNVR.JK','WIKA.JK','WSKT.JK', 'SMGR.JK', 'PTPP.JK', 'INCO.JK','PGAS.JK'"
   ]
  },
  {
   "cell_type": "code",
   "execution_count": 31,
   "metadata": {},
   "outputs": [
    {
     "name": "stdout",
     "output_type": "stream",
     "text": [
      "[*********************100%***********************]  27 of 27 completed\n"
     ]
    }
   ],
   "source": [
    "lists = ['BBCA.JK','BBNI.JK','BMRI.JK','BBRI.JK','ADHI.JK','ADRO.JK','ANTM.JK','ASII.JK','ICBP.JK','INDF.JK', 'TLKM.JK','JSMR.JK','KLBF.JK', 'BUMI.JK', 'GGRM.JK', 'UNTR.JK', 'UNVR.JK','WIKA.JK','WSKT.JK', 'SMGR.JK', 'PTPP.JK', 'INCO.JK','PGAS.JK','UNVR.JK','PWON.JK','BRPT.JK','EXCL.JK', 'HMSP.JK']\n",
    "tit = yf.download(tickers=lists, start = '2002-01-01', end = '2022-01-01', period = '1d')"
   ]
  },
  {
   "cell_type": "code",
   "execution_count": 32,
   "metadata": {},
   "outputs": [],
   "source": [
    "stock = pd.DataFrame(tit)\n",
    "stock.drop(['Adj Close','Open','High','Low'],axis = 1, inplace = True)"
   ]
  },
  {
   "cell_type": "code",
   "execution_count": 33,
   "metadata": {
    "scrolled": true
   },
   "outputs": [
    {
     "data": {
      "text/plain": [
       "Close   ADHI.JK    0\n",
       "        ADRO.JK    0\n",
       "        ANTM.JK    0\n",
       "        ASII.JK    0\n",
       "        BBCA.JK    0\n",
       "        BBNI.JK    0\n",
       "        BBRI.JK    0\n",
       "        BMRI.JK    0\n",
       "        BRPT.JK    0\n",
       "        BUMI.JK    0\n",
       "        EXCL.JK    0\n",
       "        GGRM.JK    0\n",
       "        HMSP.JK    0\n",
       "        ICBP.JK    0\n",
       "        INCO.JK    0\n",
       "        INDF.JK    0\n",
       "        JSMR.JK    0\n",
       "        KLBF.JK    0\n",
       "        PGAS.JK    0\n",
       "        PTPP.JK    0\n",
       "        PWON.JK    0\n",
       "        SMGR.JK    0\n",
       "        TLKM.JK    0\n",
       "        UNTR.JK    0\n",
       "        UNVR.JK    0\n",
       "        WIKA.JK    0\n",
       "        WSKT.JK    0\n",
       "Volume  ADHI.JK    0\n",
       "        ADRO.JK    0\n",
       "        ANTM.JK    0\n",
       "        ASII.JK    0\n",
       "        BBCA.JK    0\n",
       "        BBNI.JK    0\n",
       "        BBRI.JK    0\n",
       "        BMRI.JK    0\n",
       "        BRPT.JK    0\n",
       "        BUMI.JK    0\n",
       "        EXCL.JK    0\n",
       "        GGRM.JK    0\n",
       "        HMSP.JK    0\n",
       "        ICBP.JK    0\n",
       "        INCO.JK    0\n",
       "        INDF.JK    0\n",
       "        JSMR.JK    0\n",
       "        KLBF.JK    0\n",
       "        PGAS.JK    0\n",
       "        PTPP.JK    0\n",
       "        PWON.JK    0\n",
       "        SMGR.JK    0\n",
       "        TLKM.JK    0\n",
       "        UNTR.JK    0\n",
       "        UNVR.JK    0\n",
       "        WIKA.JK    0\n",
       "        WSKT.JK    0\n",
       "dtype: int64"
      ]
     },
     "execution_count": 33,
     "metadata": {},
     "output_type": "execute_result"
    }
   ],
   "source": [
    "stock.fillna(0, inplace=True)\n",
    "stock.isnull().sum()"
   ]
  },
  {
   "cell_type": "code",
   "execution_count": 34,
   "metadata": {
    "scrolled": true
   },
   "outputs": [
    {
     "data": {
      "text/html": [
       "<div>\n",
       "<style scoped>\n",
       "    .dataframe tbody tr th:only-of-type {\n",
       "        vertical-align: middle;\n",
       "    }\n",
       "\n",
       "    .dataframe tbody tr th {\n",
       "        vertical-align: top;\n",
       "    }\n",
       "\n",
       "    .dataframe thead tr th {\n",
       "        text-align: left;\n",
       "    }\n",
       "\n",
       "    .dataframe thead tr:last-of-type th {\n",
       "        text-align: right;\n",
       "    }\n",
       "</style>\n",
       "<table border=\"1\" class=\"dataframe\">\n",
       "  <thead>\n",
       "    <tr>\n",
       "      <th></th>\n",
       "      <th colspan=\"10\" halign=\"left\">Close</th>\n",
       "      <th>...</th>\n",
       "      <th colspan=\"10\" halign=\"left\">Volume</th>\n",
       "    </tr>\n",
       "    <tr>\n",
       "      <th></th>\n",
       "      <th>ADHI.JK</th>\n",
       "      <th>ADRO.JK</th>\n",
       "      <th>ANTM.JK</th>\n",
       "      <th>ASII.JK</th>\n",
       "      <th>BBCA.JK</th>\n",
       "      <th>BBNI.JK</th>\n",
       "      <th>BBRI.JK</th>\n",
       "      <th>BMRI.JK</th>\n",
       "      <th>BRPT.JK</th>\n",
       "      <th>BUMI.JK</th>\n",
       "      <th>...</th>\n",
       "      <th>KLBF.JK</th>\n",
       "      <th>PGAS.JK</th>\n",
       "      <th>PTPP.JK</th>\n",
       "      <th>PWON.JK</th>\n",
       "      <th>SMGR.JK</th>\n",
       "      <th>TLKM.JK</th>\n",
       "      <th>UNTR.JK</th>\n",
       "      <th>UNVR.JK</th>\n",
       "      <th>WIKA.JK</th>\n",
       "      <th>WSKT.JK</th>\n",
       "    </tr>\n",
       "    <tr>\n",
       "      <th>Date</th>\n",
       "      <th></th>\n",
       "      <th></th>\n",
       "      <th></th>\n",
       "      <th></th>\n",
       "      <th></th>\n",
       "      <th></th>\n",
       "      <th></th>\n",
       "      <th></th>\n",
       "      <th></th>\n",
       "      <th></th>\n",
       "      <th></th>\n",
       "      <th></th>\n",
       "      <th></th>\n",
       "      <th></th>\n",
       "      <th></th>\n",
       "      <th></th>\n",
       "      <th></th>\n",
       "      <th></th>\n",
       "      <th></th>\n",
       "      <th></th>\n",
       "      <th></th>\n",
       "    </tr>\n",
       "  </thead>\n",
       "  <tbody>\n",
       "    <tr>\n",
       "      <th>2002-01-01</th>\n",
       "      <td>0.0</td>\n",
       "      <td>0.0</td>\n",
       "      <td>0.0</td>\n",
       "      <td>150.697388</td>\n",
       "      <td>0.0</td>\n",
       "      <td>0.0</td>\n",
       "      <td>0.0</td>\n",
       "      <td>0.0</td>\n",
       "      <td>0.0</td>\n",
       "      <td>50.0</td>\n",
       "      <td>...</td>\n",
       "      <td>0.0</td>\n",
       "      <td>0.0</td>\n",
       "      <td>0.0</td>\n",
       "      <td>0.0</td>\n",
       "      <td>0.0</td>\n",
       "      <td>0.0</td>\n",
       "      <td>0.0</td>\n",
       "      <td>0.0</td>\n",
       "      <td>0.0</td>\n",
       "      <td>0.0</td>\n",
       "    </tr>\n",
       "    <tr>\n",
       "      <th>2002-01-02</th>\n",
       "      <td>0.0</td>\n",
       "      <td>0.0</td>\n",
       "      <td>0.0</td>\n",
       "      <td>144.901321</td>\n",
       "      <td>0.0</td>\n",
       "      <td>0.0</td>\n",
       "      <td>0.0</td>\n",
       "      <td>0.0</td>\n",
       "      <td>0.0</td>\n",
       "      <td>50.0</td>\n",
       "      <td>...</td>\n",
       "      <td>0.0</td>\n",
       "      <td>0.0</td>\n",
       "      <td>0.0</td>\n",
       "      <td>0.0</td>\n",
       "      <td>0.0</td>\n",
       "      <td>0.0</td>\n",
       "      <td>11191385.0</td>\n",
       "      <td>0.0</td>\n",
       "      <td>0.0</td>\n",
       "      <td>0.0</td>\n",
       "    </tr>\n",
       "    <tr>\n",
       "      <th>2002-01-03</th>\n",
       "      <td>0.0</td>\n",
       "      <td>0.0</td>\n",
       "      <td>0.0</td>\n",
       "      <td>144.901321</td>\n",
       "      <td>0.0</td>\n",
       "      <td>0.0</td>\n",
       "      <td>0.0</td>\n",
       "      <td>0.0</td>\n",
       "      <td>0.0</td>\n",
       "      <td>50.0</td>\n",
       "      <td>...</td>\n",
       "      <td>0.0</td>\n",
       "      <td>0.0</td>\n",
       "      <td>0.0</td>\n",
       "      <td>0.0</td>\n",
       "      <td>0.0</td>\n",
       "      <td>0.0</td>\n",
       "      <td>0.0</td>\n",
       "      <td>0.0</td>\n",
       "      <td>0.0</td>\n",
       "      <td>0.0</td>\n",
       "    </tr>\n",
       "  </tbody>\n",
       "</table>\n",
       "<p>3 rows × 54 columns</p>\n",
       "</div>"
      ],
      "text/plain": [
       "             Close                                                      \\\n",
       "           ADHI.JK ADRO.JK ANTM.JK     ASII.JK BBCA.JK BBNI.JK BBRI.JK   \n",
       "Date                                                                     \n",
       "2002-01-01     0.0     0.0     0.0  150.697388     0.0     0.0     0.0   \n",
       "2002-01-02     0.0     0.0     0.0  144.901321     0.0     0.0     0.0   \n",
       "2002-01-03     0.0     0.0     0.0  144.901321     0.0     0.0     0.0   \n",
       "\n",
       "                                    ...  Volume                          \\\n",
       "           BMRI.JK BRPT.JK BUMI.JK  ... KLBF.JK PGAS.JK PTPP.JK PWON.JK   \n",
       "Date                                ...                                   \n",
       "2002-01-01     0.0     0.0    50.0  ...     0.0     0.0     0.0     0.0   \n",
       "2002-01-02     0.0     0.0    50.0  ...     0.0     0.0     0.0     0.0   \n",
       "2002-01-03     0.0     0.0    50.0  ...     0.0     0.0     0.0     0.0   \n",
       "\n",
       "                                                                \n",
       "           SMGR.JK TLKM.JK     UNTR.JK UNVR.JK WIKA.JK WSKT.JK  \n",
       "Date                                                            \n",
       "2002-01-01     0.0     0.0         0.0     0.0     0.0     0.0  \n",
       "2002-01-02     0.0     0.0  11191385.0     0.0     0.0     0.0  \n",
       "2002-01-03     0.0     0.0         0.0     0.0     0.0     0.0  \n",
       "\n",
       "[3 rows x 54 columns]"
      ]
     },
     "execution_count": 34,
     "metadata": {},
     "output_type": "execute_result"
    }
   ],
   "source": [
    "stock.head(3)"
   ]
  },
  {
   "cell_type": "code",
   "execution_count": 35,
   "metadata": {},
   "outputs": [
    {
     "data": {
      "text/plain": [
       "MultiIndex([( 'Close', 'ADHI.JK'),\n",
       "            ( 'Close', 'ADRO.JK'),\n",
       "            ( 'Close', 'ANTM.JK'),\n",
       "            ( 'Close', 'ASII.JK'),\n",
       "            ( 'Close', 'BBCA.JK'),\n",
       "            ( 'Close', 'BBNI.JK'),\n",
       "            ( 'Close', 'BBRI.JK'),\n",
       "            ( 'Close', 'BMRI.JK'),\n",
       "            ( 'Close', 'BRPT.JK'),\n",
       "            ( 'Close', 'BUMI.JK'),\n",
       "            ( 'Close', 'EXCL.JK'),\n",
       "            ( 'Close', 'GGRM.JK'),\n",
       "            ( 'Close', 'HMSP.JK'),\n",
       "            ( 'Close', 'ICBP.JK'),\n",
       "            ( 'Close', 'INCO.JK'),\n",
       "            ( 'Close', 'INDF.JK'),\n",
       "            ( 'Close', 'JSMR.JK'),\n",
       "            ( 'Close', 'KLBF.JK'),\n",
       "            ( 'Close', 'PGAS.JK'),\n",
       "            ( 'Close', 'PTPP.JK'),\n",
       "            ( 'Close', 'PWON.JK'),\n",
       "            ( 'Close', 'SMGR.JK'),\n",
       "            ( 'Close', 'TLKM.JK'),\n",
       "            ( 'Close', 'UNTR.JK'),\n",
       "            ( 'Close', 'UNVR.JK'),\n",
       "            ( 'Close', 'WIKA.JK'),\n",
       "            ( 'Close', 'WSKT.JK'),\n",
       "            ('Volume', 'ADHI.JK'),\n",
       "            ('Volume', 'ADRO.JK'),\n",
       "            ('Volume', 'ANTM.JK'),\n",
       "            ('Volume', 'ASII.JK'),\n",
       "            ('Volume', 'BBCA.JK'),\n",
       "            ('Volume', 'BBNI.JK'),\n",
       "            ('Volume', 'BBRI.JK'),\n",
       "            ('Volume', 'BMRI.JK'),\n",
       "            ('Volume', 'BRPT.JK'),\n",
       "            ('Volume', 'BUMI.JK'),\n",
       "            ('Volume', 'EXCL.JK'),\n",
       "            ('Volume', 'GGRM.JK'),\n",
       "            ('Volume', 'HMSP.JK'),\n",
       "            ('Volume', 'ICBP.JK'),\n",
       "            ('Volume', 'INCO.JK'),\n",
       "            ('Volume', 'INDF.JK'),\n",
       "            ('Volume', 'JSMR.JK'),\n",
       "            ('Volume', 'KLBF.JK'),\n",
       "            ('Volume', 'PGAS.JK'),\n",
       "            ('Volume', 'PTPP.JK'),\n",
       "            ('Volume', 'PWON.JK'),\n",
       "            ('Volume', 'SMGR.JK'),\n",
       "            ('Volume', 'TLKM.JK'),\n",
       "            ('Volume', 'UNTR.JK'),\n",
       "            ('Volume', 'UNVR.JK'),\n",
       "            ('Volume', 'WIKA.JK'),\n",
       "            ('Volume', 'WSKT.JK')],\n",
       "           )"
      ]
     },
     "execution_count": 35,
     "metadata": {},
     "output_type": "execute_result"
    }
   ],
   "source": [
    "stock.columns"
   ]
  },
  {
   "cell_type": "code",
   "execution_count": 36,
   "metadata": {},
   "outputs": [],
   "source": [
    "#stock.to_csv('stocks.csv', index = False)"
   ]
  },
  {
   "cell_type": "code",
   "execution_count": null,
   "metadata": {},
   "outputs": [],
   "source": []
  }
 ],
 "metadata": {
  "kernelspec": {
   "display_name": "Python 3 (ipykernel)",
   "language": "python",
   "name": "python3"
  },
  "language_info": {
   "codemirror_mode": {
    "name": "ipython",
    "version": 3
   },
   "file_extension": ".py",
   "mimetype": "text/x-python",
   "name": "python",
   "nbconvert_exporter": "python",
   "pygments_lexer": "ipython3",
   "version": "3.9.12"
  },
  "vscode": {
   "interpreter": {
    "hash": "40d3a090f54c6569ab1632332b64b2c03c39dcf918b08424e98f38b5ae0af88f"
   }
  }
 },
 "nbformat": 4,
 "nbformat_minor": 2
}
