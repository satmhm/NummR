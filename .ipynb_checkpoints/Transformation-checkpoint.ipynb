{
 "cells": [
  {
   "cell_type": "code",
   "execution_count": 1,
   "id": "ff95c3b8",
   "metadata": {},
   "outputs": [],
   "source": [
    "import pandas as pd"
   ]
  },
  {
   "cell_type": "markdown",
   "id": "9a169deb",
   "metadata": {},
   "source": [
    "China CPI"
   ]
  },
  {
   "cell_type": "code",
   "execution_count": 2,
   "id": "54b6990f",
   "metadata": {},
   "outputs": [],
   "source": [
    "ch = pd.read_excel('cpiChina.xls', skiprows = [1,2,3,4,5,6,7,8,9,10])\n",
    "ch.rename(columns = {'FRED Graph Observations':'Date', 'Unnamed: 1':'CPI_CH'}, inplace = True)                                         "
   ]
  },
  {
   "cell_type": "markdown",
   "id": "83ea27d2",
   "metadata": {},
   "source": [
    "US CPI"
   ]
  },
  {
   "cell_type": "code",
   "execution_count": 3,
   "id": "444882ed",
   "metadata": {},
   "outputs": [],
   "source": [
    "us = pd.read_excel('cpiUS.xls', skiprows = [1,2,3,4,5,6,7,8,9,10])\n",
    "us.rename(columns = {'FRED Graph Observations':'Date', 'Unnamed: 1':'CPI_US'}, inplace = True)                      "
   ]
  },
  {
   "cell_type": "markdown",
   "id": "cae1e8a5",
   "metadata": {},
   "source": [
    "Indonesian CPI"
   ]
  },
  {
   "cell_type": "code",
   "execution_count": 4,
   "id": "5ec73d0e",
   "metadata": {},
   "outputs": [],
   "source": [
    "indo =  pd.read_excel('inflasiIndonesia.xlsx', skiprows = [1,2,3,4], usecols='B,C')\n",
    "indo['Unnamed: 2'] = indo['Unnamed: 2'].str.rstrip('%').astype('float') / 100.0\n",
    "indo[['Month','Year']] = indo['Unnamed: 1'].loc[indo['Unnamed: 1'].str.split().str.len() == 2].str.split(expand=True)\n",
    "indo = indo.iloc[::-1]\n",
    "indo.replace(['Januari','Februari','Maret',\n",
    "              'April','Mei','Juni',\n",
    "              'Juli','Agustus','Oktober',\n",
    "              'Desember'],['January','February',\n",
    "                           'March','April','May','June','July',\n",
    "                           'August','October','December'],\n",
    "             inplace = True)\n",
    "indo['Date'] = indo[['Month','Year']].apply(lambda x: ' '.join(x), axis=1)\n",
    "indo.drop(['Unnamed: 1','Month','Year'],axis = 1, inplace = True)\n",
    "indo['CPI_ID'] = indo['Unnamed: 2']\n",
    "indo.drop(['Unnamed: 2'], axis = 1, inplace = True)\n",
    "indo['Date'] = pd.to_datetime(indo['Date'])"
   ]
  },
  {
   "cell_type": "markdown",
   "id": "91e8c431",
   "metadata": {},
   "source": [
    "Oil (CL=F) Price"
   ]
  },
  {
   "cell_type": "code",
   "execution_count": 5,
   "id": "f436404f",
   "metadata": {},
   "outputs": [
    {
     "data": {
      "text/html": [
       "<div>\n",
       "<style scoped>\n",
       "    .dataframe tbody tr th:only-of-type {\n",
       "        vertical-align: middle;\n",
       "    }\n",
       "\n",
       "    .dataframe tbody tr th {\n",
       "        vertical-align: top;\n",
       "    }\n",
       "\n",
       "    .dataframe thead th {\n",
       "        text-align: right;\n",
       "    }\n",
       "</style>\n",
       "<table border=\"1\" class=\"dataframe\">\n",
       "  <thead>\n",
       "    <tr style=\"text-align: right;\">\n",
       "      <th></th>\n",
       "      <th>Date</th>\n",
       "      <th>Close</th>\n",
       "      <th>Volume</th>\n",
       "    </tr>\n",
       "  </thead>\n",
       "  <tbody>\n",
       "    <tr>\n",
       "      <th>0</th>\n",
       "      <td>2001-12-31</td>\n",
       "      <td>19.840000</td>\n",
       "      <td>36403</td>\n",
       "    </tr>\n",
       "    <tr>\n",
       "      <th>1</th>\n",
       "      <td>2002-01-02</td>\n",
       "      <td>21.010000</td>\n",
       "      <td>69560</td>\n",
       "    </tr>\n",
       "    <tr>\n",
       "      <th>2</th>\n",
       "      <td>2002-01-03</td>\n",
       "      <td>20.370001</td>\n",
       "      <td>64010</td>\n",
       "    </tr>\n",
       "  </tbody>\n",
       "</table>\n",
       "</div>"
      ],
      "text/plain": [
       "        Date      Close  Volume\n",
       "0 2001-12-31  19.840000   36403\n",
       "1 2002-01-02  21.010000   69560\n",
       "2 2002-01-03  20.370001   64010"
      ]
     },
     "execution_count": 5,
     "metadata": {},
     "output_type": "execute_result"
    }
   ],
   "source": [
    "oil = pd.read_excel('oilPrice.xls')\n",
    "oil.replace(['2001-12-31'])\n",
    "oil.head(3)"
   ]
  },
  {
   "cell_type": "code",
   "execution_count": 6,
   "id": "e5fa9975",
   "metadata": {
    "scrolled": true
   },
   "outputs": [
    {
     "data": {
      "text/html": [
       "<div>\n",
       "<style scoped>\n",
       "    .dataframe tbody tr th:only-of-type {\n",
       "        vertical-align: middle;\n",
       "    }\n",
       "\n",
       "    .dataframe tbody tr th {\n",
       "        vertical-align: top;\n",
       "    }\n",
       "\n",
       "    .dataframe thead th {\n",
       "        text-align: right;\n",
       "    }\n",
       "</style>\n",
       "<table border=\"1\" class=\"dataframe\">\n",
       "  <thead>\n",
       "    <tr style=\"text-align: right;\">\n",
       "      <th></th>\n",
       "      <th>Date</th>\n",
       "      <th>Close</th>\n",
       "      <th>Volume</th>\n",
       "    </tr>\n",
       "  </thead>\n",
       "  <tbody>\n",
       "    <tr>\n",
       "      <th>0</th>\n",
       "      <td>2001-12-31</td>\n",
       "      <td>19.840000</td>\n",
       "      <td>36403</td>\n",
       "    </tr>\n",
       "    <tr>\n",
       "      <th>1</th>\n",
       "      <td>2002-01-02</td>\n",
       "      <td>21.010000</td>\n",
       "      <td>69560</td>\n",
       "    </tr>\n",
       "    <tr>\n",
       "      <th>2</th>\n",
       "      <td>2002-01-03</td>\n",
       "      <td>20.370001</td>\n",
       "      <td>64010</td>\n",
       "    </tr>\n",
       "  </tbody>\n",
       "</table>\n",
       "</div>"
      ],
      "text/plain": [
       "        Date      Close  Volume\n",
       "0 2001-12-31  19.840000   36403\n",
       "1 2002-01-02  21.010000   69560\n",
       "2 2002-01-03  20.370001   64010"
      ]
     },
     "execution_count": 6,
     "metadata": {},
     "output_type": "execute_result"
    }
   ],
   "source": [
    "oil.iloc[0:3]"
   ]
  },
  {
   "cell_type": "markdown",
   "id": "73b5c344",
   "metadata": {},
   "source": [
    "<center> M2 USD"
   ]
  },
  {
   "cell_type": "code",
   "execution_count": 7,
   "id": "6662c679",
   "metadata": {},
   "outputs": [
    {
     "data": {
      "text/html": [
       "<div>\n",
       "<style scoped>\n",
       "    .dataframe tbody tr th:only-of-type {\n",
       "        vertical-align: middle;\n",
       "    }\n",
       "\n",
       "    .dataframe tbody tr th {\n",
       "        vertical-align: top;\n",
       "    }\n",
       "\n",
       "    .dataframe thead th {\n",
       "        text-align: right;\n",
       "    }\n",
       "</style>\n",
       "<table border=\"1\" class=\"dataframe\">\n",
       "  <thead>\n",
       "    <tr style=\"text-align: right;\">\n",
       "      <th></th>\n",
       "      <th>Date</th>\n",
       "      <th>USD_M_Two</th>\n",
       "    </tr>\n",
       "  </thead>\n",
       "  <tbody>\n",
       "    <tr>\n",
       "      <th>0</th>\n",
       "      <td>2002-01-07</td>\n",
       "      <td>5499.4</td>\n",
       "    </tr>\n",
       "    <tr>\n",
       "      <th>1</th>\n",
       "      <td>2002-01-14</td>\n",
       "      <td>5476.7</td>\n",
       "    </tr>\n",
       "    <tr>\n",
       "      <th>2</th>\n",
       "      <td>2002-01-21</td>\n",
       "      <td>5444.0</td>\n",
       "    </tr>\n",
       "    <tr>\n",
       "      <th>3</th>\n",
       "      <td>2002-01-28</td>\n",
       "      <td>5401.1</td>\n",
       "    </tr>\n",
       "    <tr>\n",
       "      <th>4</th>\n",
       "      <td>2002-02-04</td>\n",
       "      <td>5454.0</td>\n",
       "    </tr>\n",
       "  </tbody>\n",
       "</table>\n",
       "</div>"
      ],
      "text/plain": [
       "        Date  USD_M_Two\n",
       "0 2002-01-07     5499.4\n",
       "1 2002-01-14     5476.7\n",
       "2 2002-01-21     5444.0\n",
       "3 2002-01-28     5401.1\n",
       "4 2002-02-04     5454.0"
      ]
     },
     "execution_count": 7,
     "metadata": {},
     "output_type": "execute_result"
    }
   ],
   "source": [
    "M = pd.read_excel('M2USD.xls', skiprows = [1,2,3,4,5,6,7,8,9,10])\n",
    "M.rename(columns = {'FRED Graph Observations':'Date','Unnamed: 1':'USD_M_Two' }, inplace = True)\n",
    "M.head(5)"
   ]
  },
  {
   "cell_type": "markdown",
   "id": "2d93d889",
   "metadata": {},
   "source": [
    "<center> M2 Indonesian Rupiah"
   ]
  },
  {
   "cell_type": "code",
   "execution_count": 8,
   "id": "85691872",
   "metadata": {},
   "outputs": [],
   "source": [
    "MRp = pd.read_excel('M2 Rupiah.xlsx',skiprows=[1,2,3,4,5])\n",
    "MRp = MRp.transpose()\n",
    "MRp.columns = MRp.iloc[0]\n",
    "MRp.drop([MRp.index[0]], axis = 0, inplace = True)\n",
    "MRp.reset_index(inplace = True)\n",
    "MRp.rename(columns = {'index':'Date','Jumlah (M2)':'IDR_M_Two'}, inplace = True)"
   ]
  },
  {
   "cell_type": "code",
   "execution_count": 9,
   "id": "8181560e",
   "metadata": {},
   "outputs": [],
   "source": [
    "auxilary = ['December 2003', 'December 2004', 'December 2005', 'December 2006','December 2007','December 2008','December 2009']\n",
    "for i in range(0,7,1):\n",
    "    MRp['Date'][i] = auxilary[i]\n"
   ]
  },
  {
   "cell_type": "code",
   "execution_count": 10,
   "id": "220bfb7b",
   "metadata": {},
   "outputs": [],
   "source": [
    "MRp['Date'] = pd.to_datetime(MRp['Date'])"
   ]
  },
  {
   "cell_type": "code",
   "execution_count": 11,
   "id": "69c7f972",
   "metadata": {},
   "outputs": [
    {
     "data": {
      "text/plain": [
       "Perihal\n",
       "Date         2020-05-01 00:00:00\n",
       "IDR_M_Two              6468193.5\n",
       "Name: 131, dtype: object"
      ]
     },
     "execution_count": 11,
     "metadata": {},
     "output_type": "execute_result"
    }
   ],
   "source": [
    "MRp.iloc[-1]"
   ]
  },
  {
   "cell_type": "code",
   "execution_count": 12,
   "id": "06a99179",
   "metadata": {},
   "outputs": [],
   "source": [
    "MRpN = pd.read_excel('m2Rupiah1.xls', sheet_name = 'expel')\n",
    "MRpN = MRpN.transpose()\n",
    "MRpN.reset_index(inplace = True)\n",
    "MRpN.rename(columns = {'index':'Date', 0:'IDR_M_Two'}, inplace = True)"
   ]
  },
  {
   "cell_type": "code",
   "execution_count": 13,
   "id": "f4b277cd",
   "metadata": {},
   "outputs": [],
   "source": [
    "New = pd.concat([MRp, MRpN])"
   ]
  },
  {
   "cell_type": "code",
   "execution_count": 14,
   "id": "0a7e3038",
   "metadata": {},
   "outputs": [],
   "source": [
    "MRP = New"
   ]
  },
  {
   "cell_type": "markdown",
   "id": "e70a6fd5",
   "metadata": {},
   "source": [
    "<center> FED Federal Fund Rate"
   ]
  },
  {
   "cell_type": "code",
   "execution_count": 15,
   "id": "179ebf5e",
   "metadata": {},
   "outputs": [
    {
     "data": {
      "text/plain": [
       "(241, 2)"
      ]
     },
     "execution_count": 15,
     "metadata": {},
     "output_type": "execute_result"
    }
   ],
   "source": [
    "fed = pd.read_excel('FEDFUNDS.xls', skiprows = range(1,11,1))\n",
    "fed.rename(columns = {'FRED Graph Observations': 'Date', 'Unnamed: 1': 'US_Rate'}, inplace = True)\n",
    "fed.shape"
   ]
  },
  {
   "cell_type": "markdown",
   "id": "d2fc9734",
   "metadata": {},
   "source": [
    "<center> Bank Indoneisa Rate"
   ]
  },
  {
   "cell_type": "code",
   "execution_count": 24,
   "id": "84708271",
   "metadata": {},
   "outputs": [
    {
     "data": {
      "text/html": [
       "<div>\n",
       "<style scoped>\n",
       "    .dataframe tbody tr th:only-of-type {\n",
       "        vertical-align: middle;\n",
       "    }\n",
       "\n",
       "    .dataframe tbody tr th {\n",
       "        vertical-align: top;\n",
       "    }\n",
       "\n",
       "    .dataframe thead th {\n",
       "        text-align: right;\n",
       "    }\n",
       "</style>\n",
       "<table border=\"1\" class=\"dataframe\">\n",
       "  <thead>\n",
       "    <tr style=\"text-align: right;\">\n",
       "      <th></th>\n",
       "      <th>Date</th>\n",
       "      <th>ID_Rate</th>\n",
       "    </tr>\n",
       "  </thead>\n",
       "  <tbody>\n",
       "    <tr>\n",
       "      <th>0</th>\n",
       "      <td>2016-04-21</td>\n",
       "      <td>5.50</td>\n",
       "    </tr>\n",
       "    <tr>\n",
       "      <th>1</th>\n",
       "      <td>2016-05-19</td>\n",
       "      <td>5.50</td>\n",
       "    </tr>\n",
       "    <tr>\n",
       "      <th>2</th>\n",
       "      <td>2016-06-16</td>\n",
       "      <td>5.25</td>\n",
       "    </tr>\n",
       "    <tr>\n",
       "      <th>3</th>\n",
       "      <td>2016-07-21</td>\n",
       "      <td>5.25</td>\n",
       "    </tr>\n",
       "    <tr>\n",
       "      <th>4</th>\n",
       "      <td>2016-08-19</td>\n",
       "      <td>5.25</td>\n",
       "    </tr>\n",
       "  </tbody>\n",
       "</table>\n",
       "</div>"
      ],
      "text/plain": [
       "        Date  ID_Rate\n",
       "0 2016-04-21     5.50\n",
       "1 2016-05-19     5.50\n",
       "2 2016-06-16     5.25\n",
       "3 2016-07-21     5.25\n",
       "4 2016-08-19     5.25"
      ]
     },
     "execution_count": 24,
     "metadata": {},
     "output_type": "execute_result"
    }
   ],
   "source": [
    "BI1 = pd.read_excel('BI-7Day-RR.xlsx', skiprows = [1,2,3,4], usecols = [1,2])\n",
    "BI1.rename(columns = {'Unnamed: 1':'Date','Unnamed: 2':'ID_Rate'}, inplace = True)\n",
    "BI1 = BI1.iloc[::-1]\n",
    "BI1['ID_Rate'] = BI1['ID_Rate'].str.rstrip('%').astype('float')\n",
    "BI1[['Date','Month','Year']] = BI1['Date'].loc[BI1['Date'].str.split().str.len() == 3].str.split(expand=True)\n",
    "BI1.replace(['Januari','Februari','Maret',\n",
    "              'April','Mei','Juni',\n",
    "              'Juli','Agustus','Oktober',\n",
    "              'Desember'],['January','February',\n",
    "                           'March','April','May','June','July',\n",
    "                           'August','October','December'],\n",
    "             inplace = True)\n",
    "BI1['Date'] = BI1[['Date','Month','Year']].apply(lambda x: ' '.join(x), axis = 1)\n",
    "BI1.drop(['Month','Year'], axis = 1, inplace = True)\n",
    "BI1.reset_index(inplace = True)\n",
    "BI1.drop(['index'], axis = 1, inplace = True)\n",
    "BI1['Date'] = pd.to_datetime(BI1['Date'])\n",
    "\n",
    "BI1.head(5)"
   ]
  },
  {
   "cell_type": "markdown",
   "id": "2c7d8092",
   "metadata": {},
   "source": [
    "#### MERGE DATA"
   ]
  },
  {
   "cell_type": "code",
   "execution_count": 28,
   "id": "db7eee13",
   "metadata": {},
   "outputs": [],
   "source": [
    "ab = pd.merge(oil,ch, how = 'outer', on = 'Date' )\n",
    "bc = pd.merge(ab,us,how = 'outer', on = 'Date')\n",
    "cd = pd.merge(bc,indo, how = 'outer', on = 'Date')\n",
    "de = pd.merge(cd, M, how = 'outer', on = 'Date')\n",
    "ef = pd.merge(de, MRP, how = 'outer', on = 'Date')\n",
    "fg = pd.merge(ef, fed, how = 'outer', on = 'Date')\n",
    "gh = pd.merge(fg, BI1, how = 'outer', on = 'Date')"
   ]
  },
  {
   "cell_type": "code",
   "execution_count": 29,
   "id": "b525abae",
   "metadata": {},
   "outputs": [],
   "source": [
    "GH = gh.sort_values(by = ['Date'])\n",
    "GH.reset_index(inplace = True)\n",
    "GH.drop(['index','Volume'],axis = 1, inplace = True)\n",
    "GH.rename(columns = {'Close': 'OilPrice'}, inplace = True)"
   ]
  },
  {
   "cell_type": "code",
   "execution_count": 30,
   "id": "a6c7380c",
   "metadata": {},
   "outputs": [
    {
     "data": {
      "text/html": [
       "<div>\n",
       "<style scoped>\n",
       "    .dataframe tbody tr th:only-of-type {\n",
       "        vertical-align: middle;\n",
       "    }\n",
       "\n",
       "    .dataframe tbody tr th {\n",
       "        vertical-align: top;\n",
       "    }\n",
       "\n",
       "    .dataframe thead th {\n",
       "        text-align: right;\n",
       "    }\n",
       "</style>\n",
       "<table border=\"1\" class=\"dataframe\">\n",
       "  <thead>\n",
       "    <tr style=\"text-align: right;\">\n",
       "      <th></th>\n",
       "      <th>Date</th>\n",
       "      <th>OilPrice</th>\n",
       "      <th>CPI_CH</th>\n",
       "      <th>CPI_US</th>\n",
       "      <th>CPI_ID</th>\n",
       "      <th>USD_M_Two</th>\n",
       "      <th>IDR_M_Two</th>\n",
       "      <th>US_Rate</th>\n",
       "      <th>ID_Rate</th>\n",
       "    </tr>\n",
       "  </thead>\n",
       "  <tbody>\n",
       "    <tr>\n",
       "      <th>0</th>\n",
       "      <td>2001-12-31</td>\n",
       "      <td>19.840000</td>\n",
       "      <td>NaN</td>\n",
       "      <td>NaN</td>\n",
       "      <td>NaN</td>\n",
       "      <td>NaN</td>\n",
       "      <td>NaN</td>\n",
       "      <td>NaN</td>\n",
       "      <td>NaN</td>\n",
       "    </tr>\n",
       "    <tr>\n",
       "      <th>1</th>\n",
       "      <td>2002-01-01</td>\n",
       "      <td>NaN</td>\n",
       "      <td>71.061305</td>\n",
       "      <td>1.142204</td>\n",
       "      <td>NaN</td>\n",
       "      <td>NaN</td>\n",
       "      <td>NaN</td>\n",
       "      <td>1.73</td>\n",
       "      <td>NaN</td>\n",
       "    </tr>\n",
       "    <tr>\n",
       "      <th>2</th>\n",
       "      <td>2002-01-02</td>\n",
       "      <td>21.010000</td>\n",
       "      <td>NaN</td>\n",
       "      <td>NaN</td>\n",
       "      <td>NaN</td>\n",
       "      <td>NaN</td>\n",
       "      <td>NaN</td>\n",
       "      <td>NaN</td>\n",
       "      <td>NaN</td>\n",
       "    </tr>\n",
       "    <tr>\n",
       "      <th>3</th>\n",
       "      <td>2002-01-03</td>\n",
       "      <td>20.370001</td>\n",
       "      <td>NaN</td>\n",
       "      <td>NaN</td>\n",
       "      <td>NaN</td>\n",
       "      <td>NaN</td>\n",
       "      <td>NaN</td>\n",
       "      <td>NaN</td>\n",
       "      <td>NaN</td>\n",
       "    </tr>\n",
       "    <tr>\n",
       "      <th>4</th>\n",
       "      <td>2002-01-04</td>\n",
       "      <td>21.620001</td>\n",
       "      <td>NaN</td>\n",
       "      <td>NaN</td>\n",
       "      <td>NaN</td>\n",
       "      <td>NaN</td>\n",
       "      <td>NaN</td>\n",
       "      <td>NaN</td>\n",
       "      <td>NaN</td>\n",
       "    </tr>\n",
       "  </tbody>\n",
       "</table>\n",
       "</div>"
      ],
      "text/plain": [
       "        Date   OilPrice     CPI_CH    CPI_US  CPI_ID  USD_M_Two IDR_M_Two  \\\n",
       "0 2001-12-31  19.840000        NaN       NaN     NaN        NaN       NaN   \n",
       "1 2002-01-01        NaN  71.061305  1.142204     NaN        NaN       NaN   \n",
       "2 2002-01-02  21.010000        NaN       NaN     NaN        NaN       NaN   \n",
       "3 2002-01-03  20.370001        NaN       NaN     NaN        NaN       NaN   \n",
       "4 2002-01-04  21.620001        NaN       NaN     NaN        NaN       NaN   \n",
       "\n",
       "   US_Rate  ID_Rate  \n",
       "0      NaN      NaN  \n",
       "1     1.73      NaN  \n",
       "2      NaN      NaN  \n",
       "3      NaN      NaN  \n",
       "4      NaN      NaN  "
      ]
     },
     "execution_count": 30,
     "metadata": {},
     "output_type": "execute_result"
    }
   ],
   "source": [
    "GH.head(5)"
   ]
  },
  {
   "cell_type": "code",
   "execution_count": 19,
   "id": "fde1a11d",
   "metadata": {},
   "outputs": [],
   "source": [
    "#EF.to_csv('test.csv', index = False)"
   ]
  },
  {
   "cell_type": "code",
   "execution_count": null,
   "id": "73c739c1",
   "metadata": {},
   "outputs": [],
   "source": []
  },
  {
   "cell_type": "markdown",
   "id": "8843730e",
   "metadata": {},
   "source": [
    "DATE"
   ]
  },
  {
   "cell_type": "code",
   "execution_count": 20,
   "id": "a5cddabd",
   "metadata": {},
   "outputs": [],
   "source": [
    "df = pd.date_range(start = '2001-12-31', end = '2022-01-31')\n",
    "DF = pd.DataFrame(df)\n",
    "date = DF.rename(columns = {0:'Date'})"
   ]
  },
  {
   "cell_type": "code",
   "execution_count": 21,
   "id": "df0452cf",
   "metadata": {},
   "outputs": [
    {
     "data": {
      "text/html": [
       "<div>\n",
       "<style scoped>\n",
       "    .dataframe tbody tr th:only-of-type {\n",
       "        vertical-align: middle;\n",
       "    }\n",
       "\n",
       "    .dataframe tbody tr th {\n",
       "        vertical-align: top;\n",
       "    }\n",
       "\n",
       "    .dataframe thead th {\n",
       "        text-align: right;\n",
       "    }\n",
       "</style>\n",
       "<table border=\"1\" class=\"dataframe\">\n",
       "  <thead>\n",
       "    <tr style=\"text-align: right;\">\n",
       "      <th></th>\n",
       "      <th>Date</th>\n",
       "    </tr>\n",
       "  </thead>\n",
       "  <tbody>\n",
       "    <tr>\n",
       "      <th>0</th>\n",
       "      <td>2001-12-31</td>\n",
       "    </tr>\n",
       "    <tr>\n",
       "      <th>1</th>\n",
       "      <td>2002-01-01</td>\n",
       "    </tr>\n",
       "    <tr>\n",
       "      <th>2</th>\n",
       "      <td>2002-01-02</td>\n",
       "    </tr>\n",
       "    <tr>\n",
       "      <th>3</th>\n",
       "      <td>2002-01-03</td>\n",
       "    </tr>\n",
       "    <tr>\n",
       "      <th>4</th>\n",
       "      <td>2002-01-04</td>\n",
       "    </tr>\n",
       "  </tbody>\n",
       "</table>\n",
       "</div>"
      ],
      "text/plain": [
       "        Date\n",
       "0 2001-12-31\n",
       "1 2002-01-01\n",
       "2 2002-01-02\n",
       "3 2002-01-03\n",
       "4 2002-01-04"
      ]
     },
     "execution_count": 21,
     "metadata": {},
     "output_type": "execute_result"
    }
   ],
   "source": [
    "date.head(5)"
   ]
  },
  {
   "cell_type": "markdown",
   "id": "2c20dc3e",
   "metadata": {},
   "source": [
    "### <center> Transform XLSX to CSV"
   ]
  },
  {
   "cell_type": "code",
   "execution_count": 22,
   "id": "7c89d797",
   "metadata": {},
   "outputs": [],
   "source": [
    "#ch.to_csv('/Users/satrio.m/Desktop/Nummr/cleanData/CPIChina.csv', index = False)\n",
    "#us.to_csv('/Users/satrio.m/Desktop/Nummr/cleanData/CPIUS.csv', index = False)\n",
    "#indo.to_csv('/Users/satrio.m/Desktop/Nummr/cleanData/CPIIndo.csv', index = False)\n",
    "#oil.to_csv('/Users/satrio.m/Desktop/Nummr/cleanData/oilPrice.csv', index = False)\n",
    "#date.to_csv('/Users/satrio.m/Desktop/Nummr/cleanData/date.csv', index = False)\n"
   ]
  },
  {
   "cell_type": "code",
   "execution_count": null,
   "id": "7a9c29bd",
   "metadata": {},
   "outputs": [],
   "source": []
  }
 ],
 "metadata": {
  "kernelspec": {
   "display_name": "Python 3 (ipykernel)",
   "language": "python",
   "name": "python3"
  },
  "language_info": {
   "codemirror_mode": {
    "name": "ipython",
    "version": 3
   },
   "file_extension": ".py",
   "mimetype": "text/x-python",
   "name": "python",
   "nbconvert_exporter": "python",
   "pygments_lexer": "ipython3",
   "version": "3.9.12"
  }
 },
 "nbformat": 4,
 "nbformat_minor": 5
}
